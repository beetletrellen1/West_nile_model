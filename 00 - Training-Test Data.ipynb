{
 "cells": [
  {
   "cell_type": "markdown",
   "metadata": {},
   "source": [
    "# Notebook: West Nile Virus Prediction for Chicago\n",
    "---"
   ]
  },
  {
   "cell_type": "markdown",
   "metadata": {},
   "source": [
    "## Data Gathering"
   ]
  },
  {
   "cell_type": "code",
   "execution_count": 1,
   "metadata": {},
   "outputs": [],
   "source": [
    "import numpy as np\n",
    "import pandas as pd\n",
    "import re\n",
    "from sklearn import svm\n",
    "import matplotlib.pyplot as plt\n",
    "from sklearn.pipeline import Pipeline\n",
    "from imblearn.over_sampling import SMOTE\n",
    "from sklearn.preprocessing import StandardScaler\n",
    "from sklearn.linear_model import LogisticRegression\n",
    "from sklearn.metrics import confusion_matrix as cm\n",
    "from sklearn.ensemble import RandomForestClassifier, AdaBoostClassifier\n",
    "from sklearn.model_selection import train_test_split, GridSearchCV"
   ]
  },
  {
   "cell_type": "code",
   "execution_count": 2,
   "metadata": {},
   "outputs": [],
   "source": [
    "# data comes from Kaggle competition.  \n",
    "train_data   = pd.read_csv('./assets/train.csv')\n",
    "test_data    = pd.read_csv('./assets/test.csv', index_col='Id')\n",
    "weather_data = pd.read_csv('./assets/weather_station_avg.csv')"
   ]
  },
  {
   "cell_type": "code",
   "execution_count": 3,
   "metadata": {},
   "outputs": [
    {
     "data": {
      "text/plain": [
       "((10506, 12), (116293, 10))"
      ]
     },
     "execution_count": 3,
     "metadata": {},
     "output_type": "execute_result"
    }
   ],
   "source": [
    "train_data.shape, test_data.shape"
   ]
  },
  {
   "cell_type": "code",
   "execution_count": 4,
   "metadata": {},
   "outputs": [
    {
     "data": {
      "text/html": [
       "<div>\n",
       "<style scoped>\n",
       "    .dataframe tbody tr th:only-of-type {\n",
       "        vertical-align: middle;\n",
       "    }\n",
       "\n",
       "    .dataframe tbody tr th {\n",
       "        vertical-align: top;\n",
       "    }\n",
       "\n",
       "    .dataframe thead th {\n",
       "        text-align: right;\n",
       "    }\n",
       "</style>\n",
       "<table border=\"1\" class=\"dataframe\">\n",
       "  <thead>\n",
       "    <tr style=\"text-align: right;\">\n",
       "      <th></th>\n",
       "      <th>Date</th>\n",
       "      <th>Address</th>\n",
       "      <th>Species</th>\n",
       "      <th>Block</th>\n",
       "      <th>Street</th>\n",
       "      <th>Trap</th>\n",
       "      <th>AddressNumberAndStreet</th>\n",
       "      <th>Latitude</th>\n",
       "      <th>Longitude</th>\n",
       "      <th>AddressAccuracy</th>\n",
       "      <th>NumMosquitos</th>\n",
       "      <th>WnvPresent</th>\n",
       "    </tr>\n",
       "  </thead>\n",
       "  <tbody>\n",
       "    <tr>\n",
       "      <th>0</th>\n",
       "      <td>2007-05-29</td>\n",
       "      <td>4100 North Oak Park Avenue, Chicago, IL 60634,...</td>\n",
       "      <td>CULEX PIPIENS/RESTUANS</td>\n",
       "      <td>41</td>\n",
       "      <td>N OAK PARK AVE</td>\n",
       "      <td>T002</td>\n",
       "      <td>4100  N OAK PARK AVE, Chicago, IL</td>\n",
       "      <td>41.954690</td>\n",
       "      <td>-87.800991</td>\n",
       "      <td>9</td>\n",
       "      <td>1</td>\n",
       "      <td>0</td>\n",
       "    </tr>\n",
       "    <tr>\n",
       "      <th>1</th>\n",
       "      <td>2007-05-29</td>\n",
       "      <td>4100 North Oak Park Avenue, Chicago, IL 60634,...</td>\n",
       "      <td>CULEX RESTUANS</td>\n",
       "      <td>41</td>\n",
       "      <td>N OAK PARK AVE</td>\n",
       "      <td>T002</td>\n",
       "      <td>4100  N OAK PARK AVE, Chicago, IL</td>\n",
       "      <td>41.954690</td>\n",
       "      <td>-87.800991</td>\n",
       "      <td>9</td>\n",
       "      <td>1</td>\n",
       "      <td>0</td>\n",
       "    </tr>\n",
       "    <tr>\n",
       "      <th>2</th>\n",
       "      <td>2007-05-29</td>\n",
       "      <td>6200 North Mandell Avenue, Chicago, IL 60646, USA</td>\n",
       "      <td>CULEX RESTUANS</td>\n",
       "      <td>62</td>\n",
       "      <td>N MANDELL AVE</td>\n",
       "      <td>T007</td>\n",
       "      <td>6200  N MANDELL AVE, Chicago, IL</td>\n",
       "      <td>41.994991</td>\n",
       "      <td>-87.769279</td>\n",
       "      <td>9</td>\n",
       "      <td>1</td>\n",
       "      <td>0</td>\n",
       "    </tr>\n",
       "    <tr>\n",
       "      <th>3</th>\n",
       "      <td>2007-05-29</td>\n",
       "      <td>7900 West Foster Avenue, Chicago, IL 60656, USA</td>\n",
       "      <td>CULEX PIPIENS/RESTUANS</td>\n",
       "      <td>79</td>\n",
       "      <td>W FOSTER AVE</td>\n",
       "      <td>T015</td>\n",
       "      <td>7900  W FOSTER AVE, Chicago, IL</td>\n",
       "      <td>41.974089</td>\n",
       "      <td>-87.824812</td>\n",
       "      <td>8</td>\n",
       "      <td>1</td>\n",
       "      <td>0</td>\n",
       "    </tr>\n",
       "    <tr>\n",
       "      <th>4</th>\n",
       "      <td>2007-05-29</td>\n",
       "      <td>7900 West Foster Avenue, Chicago, IL 60656, USA</td>\n",
       "      <td>CULEX RESTUANS</td>\n",
       "      <td>79</td>\n",
       "      <td>W FOSTER AVE</td>\n",
       "      <td>T015</td>\n",
       "      <td>7900  W FOSTER AVE, Chicago, IL</td>\n",
       "      <td>41.974089</td>\n",
       "      <td>-87.824812</td>\n",
       "      <td>8</td>\n",
       "      <td>4</td>\n",
       "      <td>0</td>\n",
       "    </tr>\n",
       "  </tbody>\n",
       "</table>\n",
       "</div>"
      ],
      "text/plain": [
       "         Date                                            Address  \\\n",
       "0  2007-05-29  4100 North Oak Park Avenue, Chicago, IL 60634,...   \n",
       "1  2007-05-29  4100 North Oak Park Avenue, Chicago, IL 60634,...   \n",
       "2  2007-05-29  6200 North Mandell Avenue, Chicago, IL 60646, USA   \n",
       "3  2007-05-29    7900 West Foster Avenue, Chicago, IL 60656, USA   \n",
       "4  2007-05-29    7900 West Foster Avenue, Chicago, IL 60656, USA   \n",
       "\n",
       "                  Species  Block           Street  Trap  \\\n",
       "0  CULEX PIPIENS/RESTUANS     41   N OAK PARK AVE  T002   \n",
       "1          CULEX RESTUANS     41   N OAK PARK AVE  T002   \n",
       "2          CULEX RESTUANS     62    N MANDELL AVE  T007   \n",
       "3  CULEX PIPIENS/RESTUANS     79     W FOSTER AVE  T015   \n",
       "4          CULEX RESTUANS     79     W FOSTER AVE  T015   \n",
       "\n",
       "              AddressNumberAndStreet   Latitude  Longitude  AddressAccuracy  \\\n",
       "0  4100  N OAK PARK AVE, Chicago, IL  41.954690 -87.800991                9   \n",
       "1  4100  N OAK PARK AVE, Chicago, IL  41.954690 -87.800991                9   \n",
       "2   6200  N MANDELL AVE, Chicago, IL  41.994991 -87.769279                9   \n",
       "3    7900  W FOSTER AVE, Chicago, IL  41.974089 -87.824812                8   \n",
       "4    7900  W FOSTER AVE, Chicago, IL  41.974089 -87.824812                8   \n",
       "\n",
       "   NumMosquitos  WnvPresent  \n",
       "0             1           0  \n",
       "1             1           0  \n",
       "2             1           0  \n",
       "3             1           0  \n",
       "4             4           0  "
      ]
     },
     "execution_count": 4,
     "metadata": {},
     "output_type": "execute_result"
    }
   ],
   "source": [
    "train_data.head()"
   ]
  },
  {
   "cell_type": "code",
   "execution_count": 5,
   "metadata": {},
   "outputs": [
    {
     "data": {
      "text/html": [
       "<div>\n",
       "<style scoped>\n",
       "    .dataframe tbody tr th:only-of-type {\n",
       "        vertical-align: middle;\n",
       "    }\n",
       "\n",
       "    .dataframe tbody tr th {\n",
       "        vertical-align: top;\n",
       "    }\n",
       "\n",
       "    .dataframe thead th {\n",
       "        text-align: right;\n",
       "    }\n",
       "</style>\n",
       "<table border=\"1\" class=\"dataframe\">\n",
       "  <thead>\n",
       "    <tr style=\"text-align: right;\">\n",
       "      <th></th>\n",
       "      <th>Date</th>\n",
       "      <th>Address</th>\n",
       "      <th>Species</th>\n",
       "      <th>Block</th>\n",
       "      <th>Street</th>\n",
       "      <th>Trap</th>\n",
       "      <th>AddressNumberAndStreet</th>\n",
       "      <th>Latitude</th>\n",
       "      <th>Longitude</th>\n",
       "      <th>AddressAccuracy</th>\n",
       "    </tr>\n",
       "    <tr>\n",
       "      <th>Id</th>\n",
       "      <th></th>\n",
       "      <th></th>\n",
       "      <th></th>\n",
       "      <th></th>\n",
       "      <th></th>\n",
       "      <th></th>\n",
       "      <th></th>\n",
       "      <th></th>\n",
       "      <th></th>\n",
       "      <th></th>\n",
       "    </tr>\n",
       "  </thead>\n",
       "  <tbody>\n",
       "    <tr>\n",
       "      <th>1</th>\n",
       "      <td>2008-06-11</td>\n",
       "      <td>4100 North Oak Park Avenue, Chicago, IL 60634,...</td>\n",
       "      <td>CULEX PIPIENS/RESTUANS</td>\n",
       "      <td>41</td>\n",
       "      <td>N OAK PARK AVE</td>\n",
       "      <td>T002</td>\n",
       "      <td>4100  N OAK PARK AVE, Chicago, IL</td>\n",
       "      <td>41.95469</td>\n",
       "      <td>-87.800991</td>\n",
       "      <td>9</td>\n",
       "    </tr>\n",
       "    <tr>\n",
       "      <th>2</th>\n",
       "      <td>2008-06-11</td>\n",
       "      <td>4100 North Oak Park Avenue, Chicago, IL 60634,...</td>\n",
       "      <td>CULEX RESTUANS</td>\n",
       "      <td>41</td>\n",
       "      <td>N OAK PARK AVE</td>\n",
       "      <td>T002</td>\n",
       "      <td>4100  N OAK PARK AVE, Chicago, IL</td>\n",
       "      <td>41.95469</td>\n",
       "      <td>-87.800991</td>\n",
       "      <td>9</td>\n",
       "    </tr>\n",
       "    <tr>\n",
       "      <th>3</th>\n",
       "      <td>2008-06-11</td>\n",
       "      <td>4100 North Oak Park Avenue, Chicago, IL 60634,...</td>\n",
       "      <td>CULEX PIPIENS</td>\n",
       "      <td>41</td>\n",
       "      <td>N OAK PARK AVE</td>\n",
       "      <td>T002</td>\n",
       "      <td>4100  N OAK PARK AVE, Chicago, IL</td>\n",
       "      <td>41.95469</td>\n",
       "      <td>-87.800991</td>\n",
       "      <td>9</td>\n",
       "    </tr>\n",
       "    <tr>\n",
       "      <th>4</th>\n",
       "      <td>2008-06-11</td>\n",
       "      <td>4100 North Oak Park Avenue, Chicago, IL 60634,...</td>\n",
       "      <td>CULEX SALINARIUS</td>\n",
       "      <td>41</td>\n",
       "      <td>N OAK PARK AVE</td>\n",
       "      <td>T002</td>\n",
       "      <td>4100  N OAK PARK AVE, Chicago, IL</td>\n",
       "      <td>41.95469</td>\n",
       "      <td>-87.800991</td>\n",
       "      <td>9</td>\n",
       "    </tr>\n",
       "    <tr>\n",
       "      <th>5</th>\n",
       "      <td>2008-06-11</td>\n",
       "      <td>4100 North Oak Park Avenue, Chicago, IL 60634,...</td>\n",
       "      <td>CULEX TERRITANS</td>\n",
       "      <td>41</td>\n",
       "      <td>N OAK PARK AVE</td>\n",
       "      <td>T002</td>\n",
       "      <td>4100  N OAK PARK AVE, Chicago, IL</td>\n",
       "      <td>41.95469</td>\n",
       "      <td>-87.800991</td>\n",
       "      <td>9</td>\n",
       "    </tr>\n",
       "  </tbody>\n",
       "</table>\n",
       "</div>"
      ],
      "text/plain": [
       "          Date                                            Address  \\\n",
       "Id                                                                  \n",
       "1   2008-06-11  4100 North Oak Park Avenue, Chicago, IL 60634,...   \n",
       "2   2008-06-11  4100 North Oak Park Avenue, Chicago, IL 60634,...   \n",
       "3   2008-06-11  4100 North Oak Park Avenue, Chicago, IL 60634,...   \n",
       "4   2008-06-11  4100 North Oak Park Avenue, Chicago, IL 60634,...   \n",
       "5   2008-06-11  4100 North Oak Park Avenue, Chicago, IL 60634,...   \n",
       "\n",
       "                   Species  Block           Street  Trap  \\\n",
       "Id                                                         \n",
       "1   CULEX PIPIENS/RESTUANS     41   N OAK PARK AVE  T002   \n",
       "2           CULEX RESTUANS     41   N OAK PARK AVE  T002   \n",
       "3            CULEX PIPIENS     41   N OAK PARK AVE  T002   \n",
       "4         CULEX SALINARIUS     41   N OAK PARK AVE  T002   \n",
       "5          CULEX TERRITANS     41   N OAK PARK AVE  T002   \n",
       "\n",
       "               AddressNumberAndStreet  Latitude  Longitude  AddressAccuracy  \n",
       "Id                                                                           \n",
       "1   4100  N OAK PARK AVE, Chicago, IL  41.95469 -87.800991                9  \n",
       "2   4100  N OAK PARK AVE, Chicago, IL  41.95469 -87.800991                9  \n",
       "3   4100  N OAK PARK AVE, Chicago, IL  41.95469 -87.800991                9  \n",
       "4   4100  N OAK PARK AVE, Chicago, IL  41.95469 -87.800991                9  \n",
       "5   4100  N OAK PARK AVE, Chicago, IL  41.95469 -87.800991                9  "
      ]
     },
     "execution_count": 5,
     "metadata": {},
     "output_type": "execute_result"
    }
   ],
   "source": [
    "test_data.head()"
   ]
  },
  {
   "cell_type": "code",
   "execution_count": 6,
   "metadata": {},
   "outputs": [
    {
     "data": {
      "text/plain": [
       "((10506, 39), (116293, 37))"
      ]
     },
     "execution_count": 6,
     "metadata": {},
     "output_type": "execute_result"
    }
   ],
   "source": [
    "# train_data = pd.merge(train_data, weather_data, how='inner', on='Date', sort=False, validate='m:1')\n",
    "train_data = train_data.merge(weather_data, on='Date')\n",
    "test_data  = test_data.merge(weather_data, on=\"Date\")\n",
    "\n",
    "train_data.shape, test_data.shape"
   ]
  },
  {
   "cell_type": "markdown",
   "metadata": {},
   "source": [
    "## Data Processing and Engineering"
   ]
  },
  {
   "cell_type": "code",
   "execution_count": 7,
   "metadata": {},
   "outputs": [],
   "source": [
    "# to sort the values of the bugs that can have west nile from the ones that don't.\n",
    "def processing_species(df):\n",
    "    for bug in df:\n",
    "        if bug == 'CULEX PIPIENS/RESTUANS':\n",
    "            return 'wnv_bug'\n",
    "        elif bug == 'CULEX PIPIENS':\n",
    "            return 'wnv_bug'\n",
    "#         elif bug == 'CULEX RESTUANS':\n",
    "#             return 'wnv_bug'\n",
    "        elif bug == 'UNSPECIFIED CULEX':  # Assuming that the unspecified bug is a virus carrier.\n",
    "            return 'wnv_bug'\n",
    "        else:\n",
    "            return 'no_wnv_bug'\n",
    "\n",
    "train_data['Species'] = train_data[['Species']].apply(processing_species, axis=1)\n",
    "test_data['Species']  = test_data[['Species']].apply(processing_species, axis=1)"
   ]
  },
  {
   "cell_type": "code",
   "execution_count": 8,
   "metadata": {},
   "outputs": [],
   "source": [
    "# Break down to see if specific days are the most useful. My assumptions\n",
    "def date_separate(df):\n",
    "    df = df.copy()\n",
    "    df['Year'] = pd.DatetimeIndex(df['Date']).year\n",
    "    df['Month'] = pd.DatetimeIndex(df['Date']).month\n",
    "    df['Day'] = pd.DatetimeIndex(df['Date']).day\n",
    "    return df\n",
    "\n",
    "train_data = date_separate(train_data)\n",
    "test_data  = date_separate(test_data)"
   ]
  },
  {
   "cell_type": "code",
   "execution_count": 9,
   "metadata": {},
   "outputs": [],
   "source": [
    "# Removing date, because we \n",
    "def processing(df):\n",
    "    df.drop(['Date', \n",
    "             'Address', \n",
    "             'Street', \n",
    "             'AddressNumberAndStreet', \n",
    "             'Unnamed: 0',\n",
    "             ], axis=1, inplace=True)\n",
    "    df['Trap'] = [x.strip('TABCabc') for x in df['Trap']]\n",
    "    df['Trap'].astype(int)\n",
    "    df = pd.get_dummies(df, columns=['Species'])\n",
    "    return df\n",
    "\n",
    "train_data = processing(train_data)\n",
    "test_data  = processing(test_data)"
   ]
  },
  {
   "cell_type": "code",
   "execution_count": 10,
   "metadata": {},
   "outputs": [
    {
     "data": {
      "text/html": [
       "<div>\n",
       "<style scoped>\n",
       "    .dataframe tbody tr th:only-of-type {\n",
       "        vertical-align: middle;\n",
       "    }\n",
       "\n",
       "    .dataframe tbody tr th {\n",
       "        vertical-align: top;\n",
       "    }\n",
       "\n",
       "    .dataframe thead th {\n",
       "        text-align: right;\n",
       "    }\n",
       "</style>\n",
       "<table border=\"1\" class=\"dataframe\">\n",
       "  <thead>\n",
       "    <tr style=\"text-align: right;\">\n",
       "      <th></th>\n",
       "      <th>Block</th>\n",
       "      <th>Trap</th>\n",
       "      <th>Latitude</th>\n",
       "      <th>Longitude</th>\n",
       "      <th>AddressAccuracy</th>\n",
       "      <th>NumMosquitos</th>\n",
       "      <th>WnvPresent</th>\n",
       "      <th>Tmax</th>\n",
       "      <th>Tmin</th>\n",
       "      <th>Tavg</th>\n",
       "      <th>...</th>\n",
       "      <th>CodeSum_TS</th>\n",
       "      <th>CodeSum_TS BR</th>\n",
       "      <th>CodeSum_TS RA</th>\n",
       "      <th>CodeSum_TS RA BR</th>\n",
       "      <th>Daylight</th>\n",
       "      <th>Year</th>\n",
       "      <th>Month</th>\n",
       "      <th>Day</th>\n",
       "      <th>Species_no_wnv_bug</th>\n",
       "      <th>Species_wnv_bug</th>\n",
       "    </tr>\n",
       "  </thead>\n",
       "  <tbody>\n",
       "    <tr>\n",
       "      <th>0</th>\n",
       "      <td>41</td>\n",
       "      <td>002</td>\n",
       "      <td>41.954690</td>\n",
       "      <td>-87.800991</td>\n",
       "      <td>9</td>\n",
       "      <td>1</td>\n",
       "      <td>0</td>\n",
       "      <td>88</td>\n",
       "      <td>60</td>\n",
       "      <td>74</td>\n",
       "      <td>...</td>\n",
       "      <td>0</td>\n",
       "      <td>0</td>\n",
       "      <td>0</td>\n",
       "      <td>0</td>\n",
       "      <td>896</td>\n",
       "      <td>2007</td>\n",
       "      <td>5</td>\n",
       "      <td>29</td>\n",
       "      <td>0</td>\n",
       "      <td>1</td>\n",
       "    </tr>\n",
       "    <tr>\n",
       "      <th>1</th>\n",
       "      <td>41</td>\n",
       "      <td>002</td>\n",
       "      <td>41.954690</td>\n",
       "      <td>-87.800991</td>\n",
       "      <td>9</td>\n",
       "      <td>1</td>\n",
       "      <td>0</td>\n",
       "      <td>88</td>\n",
       "      <td>60</td>\n",
       "      <td>74</td>\n",
       "      <td>...</td>\n",
       "      <td>0</td>\n",
       "      <td>0</td>\n",
       "      <td>0</td>\n",
       "      <td>0</td>\n",
       "      <td>896</td>\n",
       "      <td>2007</td>\n",
       "      <td>5</td>\n",
       "      <td>29</td>\n",
       "      <td>1</td>\n",
       "      <td>0</td>\n",
       "    </tr>\n",
       "    <tr>\n",
       "      <th>2</th>\n",
       "      <td>62</td>\n",
       "      <td>007</td>\n",
       "      <td>41.994991</td>\n",
       "      <td>-87.769279</td>\n",
       "      <td>9</td>\n",
       "      <td>1</td>\n",
       "      <td>0</td>\n",
       "      <td>88</td>\n",
       "      <td>60</td>\n",
       "      <td>74</td>\n",
       "      <td>...</td>\n",
       "      <td>0</td>\n",
       "      <td>0</td>\n",
       "      <td>0</td>\n",
       "      <td>0</td>\n",
       "      <td>896</td>\n",
       "      <td>2007</td>\n",
       "      <td>5</td>\n",
       "      <td>29</td>\n",
       "      <td>1</td>\n",
       "      <td>0</td>\n",
       "    </tr>\n",
       "    <tr>\n",
       "      <th>3</th>\n",
       "      <td>79</td>\n",
       "      <td>015</td>\n",
       "      <td>41.974089</td>\n",
       "      <td>-87.824812</td>\n",
       "      <td>8</td>\n",
       "      <td>1</td>\n",
       "      <td>0</td>\n",
       "      <td>88</td>\n",
       "      <td>60</td>\n",
       "      <td>74</td>\n",
       "      <td>...</td>\n",
       "      <td>0</td>\n",
       "      <td>0</td>\n",
       "      <td>0</td>\n",
       "      <td>0</td>\n",
       "      <td>896</td>\n",
       "      <td>2007</td>\n",
       "      <td>5</td>\n",
       "      <td>29</td>\n",
       "      <td>0</td>\n",
       "      <td>1</td>\n",
       "    </tr>\n",
       "    <tr>\n",
       "      <th>4</th>\n",
       "      <td>79</td>\n",
       "      <td>015</td>\n",
       "      <td>41.974089</td>\n",
       "      <td>-87.824812</td>\n",
       "      <td>8</td>\n",
       "      <td>4</td>\n",
       "      <td>0</td>\n",
       "      <td>88</td>\n",
       "      <td>60</td>\n",
       "      <td>74</td>\n",
       "      <td>...</td>\n",
       "      <td>0</td>\n",
       "      <td>0</td>\n",
       "      <td>0</td>\n",
       "      <td>0</td>\n",
       "      <td>896</td>\n",
       "      <td>2007</td>\n",
       "      <td>5</td>\n",
       "      <td>29</td>\n",
       "      <td>1</td>\n",
       "      <td>0</td>\n",
       "    </tr>\n",
       "  </tbody>\n",
       "</table>\n",
       "<p>5 rows × 38 columns</p>\n",
       "</div>"
      ],
      "text/plain": [
       "   Block Trap   Latitude  Longitude  AddressAccuracy  NumMosquitos  \\\n",
       "0     41  002  41.954690 -87.800991                9             1   \n",
       "1     41  002  41.954690 -87.800991                9             1   \n",
       "2     62  007  41.994991 -87.769279                9             1   \n",
       "3     79  015  41.974089 -87.824812                8             1   \n",
       "4     79  015  41.974089 -87.824812                8             4   \n",
       "\n",
       "   WnvPresent  Tmax  Tmin  Tavg       ...         CodeSum_TS  CodeSum_TS BR  \\\n",
       "0           0    88    60    74       ...                  0              0   \n",
       "1           0    88    60    74       ...                  0              0   \n",
       "2           0    88    60    74       ...                  0              0   \n",
       "3           0    88    60    74       ...                  0              0   \n",
       "4           0    88    60    74       ...                  0              0   \n",
       "\n",
       "   CodeSum_TS RA  CodeSum_TS RA BR  Daylight  Year  Month  Day  \\\n",
       "0              0                 0       896  2007      5   29   \n",
       "1              0                 0       896  2007      5   29   \n",
       "2              0                 0       896  2007      5   29   \n",
       "3              0                 0       896  2007      5   29   \n",
       "4              0                 0       896  2007      5   29   \n",
       "\n",
       "   Species_no_wnv_bug  Species_wnv_bug  \n",
       "0                   0                1  \n",
       "1                   1                0  \n",
       "2                   1                0  \n",
       "3                   0                1  \n",
       "4                   1                0  \n",
       "\n",
       "[5 rows x 38 columns]"
      ]
     },
     "execution_count": 10,
     "metadata": {},
     "output_type": "execute_result"
    }
   ],
   "source": [
    "train_data.head()"
   ]
  },
  {
   "cell_type": "code",
   "execution_count": 11,
   "metadata": {},
   "outputs": [
    {
     "data": {
      "text/plain": [
       "((10506, 38), (116293, 36))"
      ]
     },
     "execution_count": 11,
     "metadata": {},
     "output_type": "execute_result"
    }
   ],
   "source": [
    "# the difference in shapes is fine because we have the Target still in the Training Data.\n",
    "train_data.shape, test_data.shape"
   ]
  },
  {
   "cell_type": "code",
   "execution_count": 12,
   "metadata": {},
   "outputs": [],
   "source": [
    "target   = train_data.WnvPresent\n",
    "features = train_data.drop(['WnvPresent', 'NumMosquitos'], axis=1) "
   ]
  },
  {
   "cell_type": "code",
   "execution_count": 13,
   "metadata": {},
   "outputs": [],
   "source": [
    "X_train, X_test, y_train, y_test = train_test_split(features, target, random_state=42, stratify=target)"
   ]
  },
  {
   "cell_type": "markdown",
   "metadata": {},
   "source": [
    "## Modeling"
   ]
  },
  {
   "cell_type": "code",
   "execution_count": 14,
   "metadata": {},
   "outputs": [
    {
     "data": {
      "text/plain": [
       "0    0.947554\n",
       "1    0.052446\n",
       "Name: WnvPresent, dtype: float64"
      ]
     },
     "execution_count": 14,
     "metadata": {},
     "output_type": "execute_result"
    }
   ],
   "source": [
    "# This poor representation of data split between the two objectives makes it tough to create a valid\n",
    "# model that won't just always say no.  We will need to bootstrap some data.\n",
    "train_data.WnvPresent.value_counts(normalize=True)"
   ]
  },
  {
   "cell_type": "code",
   "execution_count": 15,
   "metadata": {
    "scrolled": false
   },
   "outputs": [
    {
     "name": "stdout",
     "output_type": "stream",
     "text": [
      "dict_keys([1, 0])\n",
      "dict_values([7466, 7466])\n"
     ]
    }
   ],
   "source": [
    "# using SMOTE to achieve a better ratio of wnv. SMOTE is a synthetic data bootstrapping.\n",
    "# ratio 0.5 will set the data to be a 66% original data to 34% new data.\n",
    "sm = SMOTE(random_state=42, ratio='auto')\n",
    "\n",
    "X_train_res, y_train_res = sm.fit_sample(X_train, y_train)\n",
    "\n",
    "from collections import Counter\n",
    "\n",
    "print(Counter(y_train_res).keys()) # 0 = Wnv not present, 1 = Wnv present.\n",
    "print(Counter(y_train_res).values()) # The values represent the keys respectively."
   ]
  },
  {
   "cell_type": "code",
   "execution_count": 16,
   "metadata": {},
   "outputs": [],
   "source": [
    "# Using these three different models for classification.\n",
    "ss  = StandardScaler()\n",
    "\n",
    "log = LogisticRegression()\n",
    "rfc = RandomForestClassifier(n_estimators=14, random_state=42)\n",
    "abc = AdaBoostClassifier(n_estimators=100, learning_rate=0.1, random_state=42)"
   ]
  },
  {
   "cell_type": "code",
   "execution_count": 17,
   "metadata": {},
   "outputs": [],
   "source": [
    "# pipeline to streamline the process.\n",
    "pipe_log = Pipeline([\n",
    "    ('ss', ss),\n",
    "    ('log', log)\n",
    "])\n",
    "pipe_rfc = Pipeline([\n",
    "    ('ss', ss),\n",
    "    ('rfc', rfc),\n",
    "])\n",
    "pipe_abc = Pipeline([\n",
    "    ('ss', ss),\n",
    "    ('abc', abc)\n",
    "])"
   ]
  },
  {
   "cell_type": "code",
   "execution_count": 18,
   "metadata": {},
   "outputs": [],
   "source": [
    "# These grid searches are used to find the best parameters. It is commented out right now\n",
    "# because we found the best parameters already.\n",
    "# grid_log = GridSearchCV(estimator=pipe_log,\n",
    "#                         param_grid=params_log,\n",
    "#                         scoring='roc_auc',\n",
    "#                         cv=5)\n",
    "# grid_rfc = GridSearchCV(estimator=pipe_rfc,\n",
    "#                         param_grid=params_rfc,\n",
    "#                         scoring='roc_auc',\n",
    "#                         cv=5)\n",
    "# grid_abc = GridSearchCV(estimator=pipe_abc,\n",
    "#                         param_grid=params_abc,\n",
    "#                         scoring='roc_auc',\n",
    "#                         cv=5)"
   ]
  },
  {
   "cell_type": "code",
   "execution_count": 19,
   "metadata": {},
   "outputs": [
    {
     "name": "stdout",
     "output_type": "stream",
     "text": [
      "\n",
      "Score Train/Test: Logistic Regression\n",
      "0.7182383551212083\n",
      "0.7285877426722497\n",
      "\n",
      "Score Train/Test: Random Forest\n",
      "0.9573549942886153\n",
      "0.9196802436239055\n",
      "\n",
      "Score Train/Test: Adaboost\n",
      "0.747049117908364\n",
      "0.7609440426341835\n",
      "CPU times: user 6.95 s, sys: 241 ms, total: 7.19 s\n",
      "Wall time: 4.74 s\n"
     ]
    }
   ],
   "source": [
    "%%time\n",
    "pipes    = [ \n",
    "    pipe_log, \n",
    "    pipe_rfc, \n",
    "    pipe_abc,\n",
    "]\n",
    "pipe_idx = {0: 'Logistic Regression', \n",
    "            1: 'Random Forest', \n",
    "            2: 'Adaboost'\n",
    "           }\n",
    "\n",
    "for idx, pipe in enumerate(pipes):\n",
    "    pipe.fit(X_train_res, y_train_res)\n",
    "    print('\\nScore Train/Test: %s' % pipe_idx[idx])\n",
    "    print(pipe.score(X_train, y_train))\n",
    "    print(pipe.score(X_test, y_test))\n",
    "#     print('Best params: %s' % pipe.best_params_)"
   ]
  },
  {
   "cell_type": "code",
   "execution_count": 20,
   "metadata": {},
   "outputs": [
    {
     "data": {
      "text/plain": [
       "[(0.1026643305951347, 'Daylight'),\n",
       " (0.08789478808252225, 'Month'),\n",
       " (0.06699698448617455, 'Longitude'),\n",
       " (0.06533586401730876, 'Trap'),\n",
       " (0.062057463992374606, 'Species_wnv_bug'),\n",
       " (0.05899513741805331, 'Block'),\n",
       " (0.05651626988286098, 'Latitude'),\n",
       " (0.05391274139849504, 'Year'),\n",
       " (0.0527351941267659, 'Species_no_wnv_bug'),\n",
       " (0.04798729773853131, 'AddressAccuracy'),\n",
       " (0.038448020899463795, 'AvgSpeed'),\n",
       " (0.031689499359130575, 'ResultSpeed'),\n",
       " (0.02600363816661491, 'Cool'),\n",
       " (0.023213733471891006, 'Tavg'),\n",
       " (0.022934988331706374, 'Tmax'),\n",
       " (0.0217685058245409, 'Depart'),\n",
       " (0.020497783078221737, 'SeaLevel'),\n",
       " (0.02014542849830443, 'CodeSum_BR'),\n",
       " (0.01941930213352549, 'WetBulb'),\n",
       " (0.018865616628581713, 'StnPressure'),\n",
       " (0.017932324026749897, 'DewPoint'),\n",
       " (0.016735780743109243, 'Tmin'),\n",
       " (0.016407309457399245, 'ResultDir'),\n",
       " (0.016205450134349902, 'Day'),\n",
       " (0.01441614574582857, 'PrecipTotal'),\n",
       " (0.009815149740188489, 'CodeSum_RA'),\n",
       " (0.005585076003213741, 'CodeSum_RA BR'),\n",
       " (0.0017582404319587373, 'Heat'),\n",
       " (0.0014739320740459188, 'CodeSum_TS BR'),\n",
       " (0.0008981075170528729, 'CodeSum_TS RA BR'),\n",
       " (0.0006878702663459989, 'CodeSum_TS RA'),\n",
       " (2.0257295550759273e-06, 'CodeSum_RA DZ BR'),\n",
       " (0.0, 'CodeSum_TS'),\n",
       " (0.0, 'CodeSum_RA DZ'),\n",
       " (0.0, 'CodeSum_DZ BR'),\n",
       " (0.0, 'CodeSum_DZ')]"
      ]
     },
     "execution_count": 20,
     "metadata": {},
     "output_type": "execute_result"
    }
   ],
   "source": [
    "feat = pipe_rfc.named_steps['rfc']\n",
    "\n",
    "importance = feat.feature_importances_\n",
    "\n",
    "# Daylight and months correlate to being the most important features.  Clearly based on time of year\n",
    "# In addition with latitude and longitude to target the specific\n",
    "sorted(list(zip(importance, features.keys())), reverse=True)"
   ]
  },
  {
   "cell_type": "code",
   "execution_count": 25,
   "metadata": {},
   "outputs": [],
   "source": [
    "test_data.to_csv('test_data_transformed.csv', index=False)\n",
    "train_data.to_csv('train_data_transformed.csv', index=False)"
   ]
  },
  {
   "cell_type": "code",
   "execution_count": 21,
   "metadata": {},
   "outputs": [],
   "source": [
    "predictions = pipe_rfc.predict(test_data)"
   ]
  },
  {
   "cell_type": "code",
   "execution_count": 22,
   "metadata": {
    "scrolled": true
   },
   "outputs": [
    {
     "data": {
      "text/plain": [
       "116293"
      ]
     },
     "execution_count": 22,
     "metadata": {},
     "output_type": "execute_result"
    }
   ],
   "source": [
    "len(predictions)"
   ]
  },
  {
   "cell_type": "code",
   "execution_count": 23,
   "metadata": {},
   "outputs": [],
   "source": [
    "sample_submission = pd.read_csv('./assets/sampleSubmission.csv')\n",
    "sample_submission['WnvPresent'] = predictions\n",
    "# sample_submission.to_csv('submission_randomforest6.csv', index=False)"
   ]
  },
  {
   "cell_type": "code",
   "execution_count": 24,
   "metadata": {},
   "outputs": [
    {
     "name": "stdout",
     "output_type": "stream",
     "text": [
      "dict_keys([0, 1])\n",
      "dict_values([94107, 22186])\n"
     ]
    }
   ],
   "source": [
    "print(Counter(predictions).keys()) # 0 = Wnv not present, 1 = Wnv present.\n",
    "print(Counter(predictions).values()) # The values represent the keys respectively."
   ]
  },
  {
   "cell_type": "markdown",
   "metadata": {},
   "source": [
    "## Executive Summary"
   ]
  },
  {
   "cell_type": "markdown",
   "metadata": {},
   "source": [
    "After thorough cleaning, engineering, and modeling we were able to accurately predict 70% of the time where the West Nile Virus would be present.  With higher prediction scores, we can reduce the cost of spraying to target the areas that will most likely have the virus.  The cost spraying for some areas of Chicago can range from \\$300 per square mile to $20,000 per square mile.  With costs ranging this dramatically, having an informed decision about where to spray is paramount to managing a budget within the city while keeping the citizens healthy.  \n",
    "\n",
    "Targeted sprays to handle the mosquito population will reduce environmental risks and healh risks attributed to spraying chemicals in a highly populated area.  It negatively affects bees, land mammals, and aquatic animals; which is a detriment to maintaining a healthy ecosystem.  \n",
    "\n",
    "Moving forward it is important to find additonal features that affect where the virus is propogated."
   ]
  }
 ],
 "metadata": {
  "kernelspec": {
   "display_name": "Python [conda env:dsi]",
   "language": "python",
   "name": "conda-env-dsi-py"
  },
  "language_info": {
   "codemirror_mode": {
    "name": "ipython",
    "version": 3
   },
   "file_extension": ".py",
   "mimetype": "text/x-python",
   "name": "python",
   "nbconvert_exporter": "python",
   "pygments_lexer": "ipython3",
   "version": "3.6.5"
  }
 },
 "nbformat": 4,
 "nbformat_minor": 2
}
