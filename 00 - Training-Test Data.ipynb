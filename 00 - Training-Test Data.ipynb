{
 "cells": [
  {
   "cell_type": "code",
   "execution_count": 25,
   "metadata": {},
   "outputs": [],
   "source": [
    "import numpy as np\n",
    "import pandas as pd\n",
    "import re\n",
    "from sklearn import svm\n",
    "import matplotlib.pyplot as plt\n",
    "from sklearn.pipeline import Pipeline\n",
    "from imblearn.over_sampling import SMOTE\n",
    "from sklearn.preprocessing import StandardScaler\n",
    "from sklearn.linear_model import LogisticRegression\n",
    "from sklearn.metrics import confusion_matrix as cm\n",
    "from sklearn.ensemble import RandomForestClassifier, AdaBoostClassifier\n",
    "from sklearn.model_selection import train_test_split, GridSearchCV"
   ]
  },
  {
   "cell_type": "code",
   "execution_count": 26,
   "metadata": {},
   "outputs": [],
   "source": [
    "train_data   = pd.read_csv('./assets/train.csv')\n",
    "test_data    = pd.read_csv('./assets/test.csv')\n",
    "weather_data = pd.read_csv('./weather_station_avg.csv')"
   ]
  },
  {
   "cell_type": "code",
   "execution_count": 27,
   "metadata": {},
   "outputs": [
    {
     "data": {
      "text/plain": [
       "((10506, 12), (116293, 11))"
      ]
     },
     "execution_count": 27,
     "metadata": {},
     "output_type": "execute_result"
    }
   ],
   "source": [
    "train_data.shape, test_data.shape"
   ]
  },
  {
   "cell_type": "code",
   "execution_count": 28,
   "metadata": {},
   "outputs": [
    {
     "data": {
      "text/plain": [
       "((10506, 39), (116293, 38))"
      ]
     },
     "execution_count": 28,
     "metadata": {},
     "output_type": "execute_result"
    }
   ],
   "source": [
    "# train_data = pd.merge(train_data, weather_data, how='inner', on='Date', sort=False, validate='m:1')\n",
    "train_data = train_data.merge(weather_data, on='Date')\n",
    "test_data  = test_data.merge(weather_data, on=\"Date\")\n",
    "\n",
    "train_data.shape, test_data.shape"
   ]
  },
  {
   "cell_type": "code",
   "execution_count": 29,
   "metadata": {},
   "outputs": [
    {
     "data": {
      "text/html": [
       "<div>\n",
       "<style scoped>\n",
       "    .dataframe tbody tr th:only-of-type {\n",
       "        vertical-align: middle;\n",
       "    }\n",
       "\n",
       "    .dataframe tbody tr th {\n",
       "        vertical-align: top;\n",
       "    }\n",
       "\n",
       "    .dataframe thead th {\n",
       "        text-align: right;\n",
       "    }\n",
       "</style>\n",
       "<table border=\"1\" class=\"dataframe\">\n",
       "  <thead>\n",
       "    <tr style=\"text-align: right;\">\n",
       "      <th></th>\n",
       "      <th>Id</th>\n",
       "      <th>Date</th>\n",
       "      <th>Address</th>\n",
       "      <th>Species</th>\n",
       "      <th>Block</th>\n",
       "      <th>Street</th>\n",
       "      <th>Trap</th>\n",
       "      <th>AddressNumberAndStreet</th>\n",
       "      <th>Latitude</th>\n",
       "      <th>Longitude</th>\n",
       "      <th>...</th>\n",
       "      <th>CodeSum_DZ</th>\n",
       "      <th>CodeSum_DZ BR</th>\n",
       "      <th>CodeSum_RA</th>\n",
       "      <th>CodeSum_RA BR</th>\n",
       "      <th>CodeSum_RA DZ</th>\n",
       "      <th>CodeSum_RA DZ BR</th>\n",
       "      <th>CodeSum_TS</th>\n",
       "      <th>CodeSum_TS BR</th>\n",
       "      <th>CodeSum_TS RA</th>\n",
       "      <th>CodeSum_TS RA BR</th>\n",
       "    </tr>\n",
       "  </thead>\n",
       "  <tbody>\n",
       "    <tr>\n",
       "      <th>0</th>\n",
       "      <td>1</td>\n",
       "      <td>2008-06-11</td>\n",
       "      <td>4100 North Oak Park Avenue, Chicago, IL 60634,...</td>\n",
       "      <td>CULEX PIPIENS/RESTUANS</td>\n",
       "      <td>41</td>\n",
       "      <td>N OAK PARK AVE</td>\n",
       "      <td>T002</td>\n",
       "      <td>4100  N OAK PARK AVE, Chicago, IL</td>\n",
       "      <td>41.95469</td>\n",
       "      <td>-87.800991</td>\n",
       "      <td>...</td>\n",
       "      <td>0</td>\n",
       "      <td>0</td>\n",
       "      <td>0</td>\n",
       "      <td>0</td>\n",
       "      <td>0</td>\n",
       "      <td>0</td>\n",
       "      <td>0</td>\n",
       "      <td>0</td>\n",
       "      <td>0</td>\n",
       "      <td>0</td>\n",
       "    </tr>\n",
       "    <tr>\n",
       "      <th>1</th>\n",
       "      <td>2</td>\n",
       "      <td>2008-06-11</td>\n",
       "      <td>4100 North Oak Park Avenue, Chicago, IL 60634,...</td>\n",
       "      <td>CULEX RESTUANS</td>\n",
       "      <td>41</td>\n",
       "      <td>N OAK PARK AVE</td>\n",
       "      <td>T002</td>\n",
       "      <td>4100  N OAK PARK AVE, Chicago, IL</td>\n",
       "      <td>41.95469</td>\n",
       "      <td>-87.800991</td>\n",
       "      <td>...</td>\n",
       "      <td>0</td>\n",
       "      <td>0</td>\n",
       "      <td>0</td>\n",
       "      <td>0</td>\n",
       "      <td>0</td>\n",
       "      <td>0</td>\n",
       "      <td>0</td>\n",
       "      <td>0</td>\n",
       "      <td>0</td>\n",
       "      <td>0</td>\n",
       "    </tr>\n",
       "    <tr>\n",
       "      <th>2</th>\n",
       "      <td>3</td>\n",
       "      <td>2008-06-11</td>\n",
       "      <td>4100 North Oak Park Avenue, Chicago, IL 60634,...</td>\n",
       "      <td>CULEX PIPIENS</td>\n",
       "      <td>41</td>\n",
       "      <td>N OAK PARK AVE</td>\n",
       "      <td>T002</td>\n",
       "      <td>4100  N OAK PARK AVE, Chicago, IL</td>\n",
       "      <td>41.95469</td>\n",
       "      <td>-87.800991</td>\n",
       "      <td>...</td>\n",
       "      <td>0</td>\n",
       "      <td>0</td>\n",
       "      <td>0</td>\n",
       "      <td>0</td>\n",
       "      <td>0</td>\n",
       "      <td>0</td>\n",
       "      <td>0</td>\n",
       "      <td>0</td>\n",
       "      <td>0</td>\n",
       "      <td>0</td>\n",
       "    </tr>\n",
       "    <tr>\n",
       "      <th>3</th>\n",
       "      <td>4</td>\n",
       "      <td>2008-06-11</td>\n",
       "      <td>4100 North Oak Park Avenue, Chicago, IL 60634,...</td>\n",
       "      <td>CULEX SALINARIUS</td>\n",
       "      <td>41</td>\n",
       "      <td>N OAK PARK AVE</td>\n",
       "      <td>T002</td>\n",
       "      <td>4100  N OAK PARK AVE, Chicago, IL</td>\n",
       "      <td>41.95469</td>\n",
       "      <td>-87.800991</td>\n",
       "      <td>...</td>\n",
       "      <td>0</td>\n",
       "      <td>0</td>\n",
       "      <td>0</td>\n",
       "      <td>0</td>\n",
       "      <td>0</td>\n",
       "      <td>0</td>\n",
       "      <td>0</td>\n",
       "      <td>0</td>\n",
       "      <td>0</td>\n",
       "      <td>0</td>\n",
       "    </tr>\n",
       "    <tr>\n",
       "      <th>4</th>\n",
       "      <td>5</td>\n",
       "      <td>2008-06-11</td>\n",
       "      <td>4100 North Oak Park Avenue, Chicago, IL 60634,...</td>\n",
       "      <td>CULEX TERRITANS</td>\n",
       "      <td>41</td>\n",
       "      <td>N OAK PARK AVE</td>\n",
       "      <td>T002</td>\n",
       "      <td>4100  N OAK PARK AVE, Chicago, IL</td>\n",
       "      <td>41.95469</td>\n",
       "      <td>-87.800991</td>\n",
       "      <td>...</td>\n",
       "      <td>0</td>\n",
       "      <td>0</td>\n",
       "      <td>0</td>\n",
       "      <td>0</td>\n",
       "      <td>0</td>\n",
       "      <td>0</td>\n",
       "      <td>0</td>\n",
       "      <td>0</td>\n",
       "      <td>0</td>\n",
       "      <td>0</td>\n",
       "    </tr>\n",
       "  </tbody>\n",
       "</table>\n",
       "<p>5 rows × 38 columns</p>\n",
       "</div>"
      ],
      "text/plain": [
       "   Id        Date                                            Address  \\\n",
       "0   1  2008-06-11  4100 North Oak Park Avenue, Chicago, IL 60634,...   \n",
       "1   2  2008-06-11  4100 North Oak Park Avenue, Chicago, IL 60634,...   \n",
       "2   3  2008-06-11  4100 North Oak Park Avenue, Chicago, IL 60634,...   \n",
       "3   4  2008-06-11  4100 North Oak Park Avenue, Chicago, IL 60634,...   \n",
       "4   5  2008-06-11  4100 North Oak Park Avenue, Chicago, IL 60634,...   \n",
       "\n",
       "                  Species  Block           Street  Trap  \\\n",
       "0  CULEX PIPIENS/RESTUANS     41   N OAK PARK AVE  T002   \n",
       "1          CULEX RESTUANS     41   N OAK PARK AVE  T002   \n",
       "2           CULEX PIPIENS     41   N OAK PARK AVE  T002   \n",
       "3        CULEX SALINARIUS     41   N OAK PARK AVE  T002   \n",
       "4         CULEX TERRITANS     41   N OAK PARK AVE  T002   \n",
       "\n",
       "              AddressNumberAndStreet  Latitude  Longitude        ...         \\\n",
       "0  4100  N OAK PARK AVE, Chicago, IL  41.95469 -87.800991        ...          \n",
       "1  4100  N OAK PARK AVE, Chicago, IL  41.95469 -87.800991        ...          \n",
       "2  4100  N OAK PARK AVE, Chicago, IL  41.95469 -87.800991        ...          \n",
       "3  4100  N OAK PARK AVE, Chicago, IL  41.95469 -87.800991        ...          \n",
       "4  4100  N OAK PARK AVE, Chicago, IL  41.95469 -87.800991        ...          \n",
       "\n",
       "   CodeSum_DZ  CodeSum_DZ BR  CodeSum_RA  CodeSum_RA BR  CodeSum_RA DZ  \\\n",
       "0           0              0           0              0              0   \n",
       "1           0              0           0              0              0   \n",
       "2           0              0           0              0              0   \n",
       "3           0              0           0              0              0   \n",
       "4           0              0           0              0              0   \n",
       "\n",
       "   CodeSum_RA DZ BR  CodeSum_TS  CodeSum_TS BR  CodeSum_TS RA  \\\n",
       "0                 0           0              0              0   \n",
       "1                 0           0              0              0   \n",
       "2                 0           0              0              0   \n",
       "3                 0           0              0              0   \n",
       "4                 0           0              0              0   \n",
       "\n",
       "   CodeSum_TS RA BR  \n",
       "0                 0  \n",
       "1                 0  \n",
       "2                 0  \n",
       "3                 0  \n",
       "4                 0  \n",
       "\n",
       "[5 rows x 38 columns]"
      ]
     },
     "execution_count": 29,
     "metadata": {},
     "output_type": "execute_result"
    }
   ],
   "source": [
    "test_data.head()"
   ]
  },
  {
   "cell_type": "code",
   "execution_count": 30,
   "metadata": {},
   "outputs": [],
   "source": [
    "# to sort the values of the bugs that can have west nile from the ones that don't.\n",
    "def processing_species(df):\n",
    "    for bug in df:\n",
    "        if bug == 'CULEX PIPIENS/RESTUANS':\n",
    "            return 'wnv_bug'\n",
    "        elif bug == 'CULEX PIPIENS':\n",
    "            return 'wnv_bug'\n",
    "        elif bug == 'CULEX RESTUANS':\n",
    "            return 'wnv_bug'\n",
    "        else:\n",
    "            return 'no_wnv_bug'\n",
    "\n",
    "train_data['Species'] = train_data[['Species']].apply(processing_species, axis=1)\n",
    "test_data['Species']  = test_data[['Species']].apply(processing_species, axis=1)"
   ]
  },
  {
   "cell_type": "code",
   "execution_count": 31,
   "metadata": {},
   "outputs": [],
   "source": [
    "def processing(df):\n",
    "    df.drop(['Date', 'Address', 'Street', 'AddressNumberAndStreet', 'Unnamed: 0'], axis=1, inplace=True)\n",
    "    df['Trap'] = [x.strip('TABCabc') for x in df['Trap']]\n",
    "    df['Trap'].astype(int)\n",
    "    df = pd.get_dummies(df, columns=['Species'])\n",
    "    return df\n",
    "\n",
    "train_data = processing(train_data)\n",
    "test_data  = processing(test_data)"
   ]
  },
  {
   "cell_type": "code",
   "execution_count": 32,
   "metadata": {},
   "outputs": [
    {
     "data": {
      "text/html": [
       "<div>\n",
       "<style scoped>\n",
       "    .dataframe tbody tr th:only-of-type {\n",
       "        vertical-align: middle;\n",
       "    }\n",
       "\n",
       "    .dataframe tbody tr th {\n",
       "        vertical-align: top;\n",
       "    }\n",
       "\n",
       "    .dataframe thead th {\n",
       "        text-align: right;\n",
       "    }\n",
       "</style>\n",
       "<table border=\"1\" class=\"dataframe\">\n",
       "  <thead>\n",
       "    <tr style=\"text-align: right;\">\n",
       "      <th></th>\n",
       "      <th>Block</th>\n",
       "      <th>Trap</th>\n",
       "      <th>Latitude</th>\n",
       "      <th>Longitude</th>\n",
       "      <th>AddressAccuracy</th>\n",
       "      <th>NumMosquitos</th>\n",
       "      <th>WnvPresent</th>\n",
       "      <th>Tmax</th>\n",
       "      <th>Tmin</th>\n",
       "      <th>Tavg</th>\n",
       "      <th>...</th>\n",
       "      <th>CodeSum_RA</th>\n",
       "      <th>CodeSum_RA BR</th>\n",
       "      <th>CodeSum_RA DZ</th>\n",
       "      <th>CodeSum_RA DZ BR</th>\n",
       "      <th>CodeSum_TS</th>\n",
       "      <th>CodeSum_TS BR</th>\n",
       "      <th>CodeSum_TS RA</th>\n",
       "      <th>CodeSum_TS RA BR</th>\n",
       "      <th>Species_no_wnv_bug</th>\n",
       "      <th>Species_wnv_bug</th>\n",
       "    </tr>\n",
       "  </thead>\n",
       "  <tbody>\n",
       "    <tr>\n",
       "      <th>0</th>\n",
       "      <td>41</td>\n",
       "      <td>002</td>\n",
       "      <td>41.954690</td>\n",
       "      <td>-87.800991</td>\n",
       "      <td>9</td>\n",
       "      <td>1</td>\n",
       "      <td>0</td>\n",
       "      <td>88</td>\n",
       "      <td>60</td>\n",
       "      <td>74</td>\n",
       "      <td>...</td>\n",
       "      <td>0</td>\n",
       "      <td>0</td>\n",
       "      <td>0</td>\n",
       "      <td>0</td>\n",
       "      <td>0</td>\n",
       "      <td>0</td>\n",
       "      <td>0</td>\n",
       "      <td>0</td>\n",
       "      <td>0</td>\n",
       "      <td>1</td>\n",
       "    </tr>\n",
       "    <tr>\n",
       "      <th>1</th>\n",
       "      <td>41</td>\n",
       "      <td>002</td>\n",
       "      <td>41.954690</td>\n",
       "      <td>-87.800991</td>\n",
       "      <td>9</td>\n",
       "      <td>1</td>\n",
       "      <td>0</td>\n",
       "      <td>88</td>\n",
       "      <td>60</td>\n",
       "      <td>74</td>\n",
       "      <td>...</td>\n",
       "      <td>0</td>\n",
       "      <td>0</td>\n",
       "      <td>0</td>\n",
       "      <td>0</td>\n",
       "      <td>0</td>\n",
       "      <td>0</td>\n",
       "      <td>0</td>\n",
       "      <td>0</td>\n",
       "      <td>0</td>\n",
       "      <td>1</td>\n",
       "    </tr>\n",
       "    <tr>\n",
       "      <th>2</th>\n",
       "      <td>62</td>\n",
       "      <td>007</td>\n",
       "      <td>41.994991</td>\n",
       "      <td>-87.769279</td>\n",
       "      <td>9</td>\n",
       "      <td>1</td>\n",
       "      <td>0</td>\n",
       "      <td>88</td>\n",
       "      <td>60</td>\n",
       "      <td>74</td>\n",
       "      <td>...</td>\n",
       "      <td>0</td>\n",
       "      <td>0</td>\n",
       "      <td>0</td>\n",
       "      <td>0</td>\n",
       "      <td>0</td>\n",
       "      <td>0</td>\n",
       "      <td>0</td>\n",
       "      <td>0</td>\n",
       "      <td>0</td>\n",
       "      <td>1</td>\n",
       "    </tr>\n",
       "    <tr>\n",
       "      <th>3</th>\n",
       "      <td>79</td>\n",
       "      <td>015</td>\n",
       "      <td>41.974089</td>\n",
       "      <td>-87.824812</td>\n",
       "      <td>8</td>\n",
       "      <td>1</td>\n",
       "      <td>0</td>\n",
       "      <td>88</td>\n",
       "      <td>60</td>\n",
       "      <td>74</td>\n",
       "      <td>...</td>\n",
       "      <td>0</td>\n",
       "      <td>0</td>\n",
       "      <td>0</td>\n",
       "      <td>0</td>\n",
       "      <td>0</td>\n",
       "      <td>0</td>\n",
       "      <td>0</td>\n",
       "      <td>0</td>\n",
       "      <td>0</td>\n",
       "      <td>1</td>\n",
       "    </tr>\n",
       "    <tr>\n",
       "      <th>4</th>\n",
       "      <td>79</td>\n",
       "      <td>015</td>\n",
       "      <td>41.974089</td>\n",
       "      <td>-87.824812</td>\n",
       "      <td>8</td>\n",
       "      <td>4</td>\n",
       "      <td>0</td>\n",
       "      <td>88</td>\n",
       "      <td>60</td>\n",
       "      <td>74</td>\n",
       "      <td>...</td>\n",
       "      <td>0</td>\n",
       "      <td>0</td>\n",
       "      <td>0</td>\n",
       "      <td>0</td>\n",
       "      <td>0</td>\n",
       "      <td>0</td>\n",
       "      <td>0</td>\n",
       "      <td>0</td>\n",
       "      <td>0</td>\n",
       "      <td>1</td>\n",
       "    </tr>\n",
       "  </tbody>\n",
       "</table>\n",
       "<p>5 rows × 35 columns</p>\n",
       "</div>"
      ],
      "text/plain": [
       "   Block Trap   Latitude  Longitude  AddressAccuracy  NumMosquitos  \\\n",
       "0     41  002  41.954690 -87.800991                9             1   \n",
       "1     41  002  41.954690 -87.800991                9             1   \n",
       "2     62  007  41.994991 -87.769279                9             1   \n",
       "3     79  015  41.974089 -87.824812                8             1   \n",
       "4     79  015  41.974089 -87.824812                8             4   \n",
       "\n",
       "   WnvPresent  Tmax  Tmin  Tavg       ...         CodeSum_RA  CodeSum_RA BR  \\\n",
       "0           0    88    60    74       ...                  0              0   \n",
       "1           0    88    60    74       ...                  0              0   \n",
       "2           0    88    60    74       ...                  0              0   \n",
       "3           0    88    60    74       ...                  0              0   \n",
       "4           0    88    60    74       ...                  0              0   \n",
       "\n",
       "   CodeSum_RA DZ  CodeSum_RA DZ BR  CodeSum_TS  CodeSum_TS BR  CodeSum_TS RA  \\\n",
       "0              0                 0           0              0              0   \n",
       "1              0                 0           0              0              0   \n",
       "2              0                 0           0              0              0   \n",
       "3              0                 0           0              0              0   \n",
       "4              0                 0           0              0              0   \n",
       "\n",
       "   CodeSum_TS RA BR  Species_no_wnv_bug  Species_wnv_bug  \n",
       "0                 0                   0                1  \n",
       "1                 0                   0                1  \n",
       "2                 0                   0                1  \n",
       "3                 0                   0                1  \n",
       "4                 0                   0                1  \n",
       "\n",
       "[5 rows x 35 columns]"
      ]
     },
     "execution_count": 32,
     "metadata": {},
     "output_type": "execute_result"
    }
   ],
   "source": [
    "train_data.head()"
   ]
  },
  {
   "cell_type": "code",
   "execution_count": 33,
   "metadata": {},
   "outputs": [
    {
     "data": {
      "text/plain": [
       "((10506, 35), (116293, 34))"
      ]
     },
     "execution_count": 33,
     "metadata": {},
     "output_type": "execute_result"
    }
   ],
   "source": [
    "# the difference in shapes is fine because we have the Target still in the Training Data.\n",
    "train_data.shape, test_data.shape"
   ]
  },
  {
   "cell_type": "code",
   "execution_count": 34,
   "metadata": {},
   "outputs": [],
   "source": [
    "target   = train_data.WnvPresent\n",
    "features = train_data.drop('WnvPresent', axis=1) "
   ]
  },
  {
   "cell_type": "code",
   "execution_count": 35,
   "metadata": {},
   "outputs": [],
   "source": [
    "X_train, X_test, y_train, y_test = train_test_split(features, target, random_state=42, stratify=target)"
   ]
  },
  {
   "cell_type": "code",
   "execution_count": 36,
   "metadata": {
    "scrolled": true
   },
   "outputs": [
    {
     "name": "stderr",
     "output_type": "stream",
     "text": [
      "/anaconda3/envs/dsi/lib/python3.6/site-packages/sklearn/utils/deprecation.py:77: DeprecationWarning: Function _ratio_float is deprecated; Use a float for 'ratio' is deprecated from version 0.2. The support will be removed in 0.4. Use a dict, str, or a callable instead.\n",
      "  warnings.warn(msg, category=DeprecationWarning)\n"
     ]
    }
   ],
   "source": [
    "sm = SMOTE(random_state=42, ratio=0.5)\n",
    "\n",
    "X_train_res, y_train_res = sm.fit_sample(X_train, y_train)"
   ]
  },
  {
   "cell_type": "code",
   "execution_count": 37,
   "metadata": {},
   "outputs": [],
   "source": [
    "ss  = StandardScaler()\n",
    "\n",
    "log = LogisticRegression()\n",
    "rfc = RandomForestClassifier(n_estimators=14, random_state=42)\n",
    "abc = AdaBoostClassifier(n_estimators=100, learning_rate=0.1, random_state=42)\n",
    "# svc = svm.SVC()"
   ]
  },
  {
   "cell_type": "code",
   "execution_count": 38,
   "metadata": {},
   "outputs": [],
   "source": [
    "pipe_log = Pipeline([\n",
    "    ('ss', ss),\n",
    "    ('log', log)\n",
    "])\n",
    "pipe_rfc = Pipeline([\n",
    "    ('ss', ss),\n",
    "    ('rfc', rfc),\n",
    "])\n",
    "pipe_abc = Pipeline([\n",
    "    ('ss', ss),\n",
    "    ('abc', abc)\n",
    "])\n",
    "# pipe_svc = Pipeline([\n",
    "#     ('ss', ss),\n",
    "#     ('svc', svc)\n",
    "# ])"
   ]
  },
  {
   "cell_type": "code",
   "execution_count": null,
   "metadata": {},
   "outputs": [],
   "source": []
  },
  {
   "cell_type": "code",
   "execution_count": 39,
   "metadata": {},
   "outputs": [],
   "source": [
    "# grid_log = GridSearchCV(estimator=pipe_log,\n",
    "#                         param_grid=params_log,\n",
    "#                         scoring='roc_auc',\n",
    "#                         cv=5)\n",
    "# grid_rfc = GridSearchCV(estimator=pipe_rfc,\n",
    "#                         param_grid=params_rfc,\n",
    "#                         scoring='roc_auc',\n",
    "#                         cv=5)\n",
    "# grid_abc = GridSearchCV(estimator=pipe_abc,\n",
    "#                         param_grid=params_abc,\n",
    "#                         scoring='roc_auc',\n",
    "#                         cv=5)\n",
    "# # grid_svc = GridSearchCV(estimator=pipe_svc,\n",
    "# #                         param_grid=params_svc,\n",
    "# #                         scoring='roc_auc',\n",
    "# #                         cv=5)"
   ]
  },
  {
   "cell_type": "code",
   "execution_count": 40,
   "metadata": {},
   "outputs": [
    {
     "name": "stdout",
     "output_type": "stream",
     "text": [
      "\n",
      "Score Train/Test: Logistic Regression\n",
      "0.8525193552481279\n",
      "0.851541682527598\n",
      "\n",
      "Score Train/Test: Random Forest\n",
      "0.9812158903414139\n",
      "0.9288161400837457\n",
      "\n",
      "Score Train/Test: Adaboost\n",
      "0.8733341794643991\n",
      "0.871716787209745\n",
      "CPU times: user 3.09 s, sys: 83.3 ms, total: 3.17 s\n",
      "Wall time: 2.54 s\n"
     ]
    }
   ],
   "source": [
    "%%time\n",
    "pipes    = [ \n",
    "    pipe_log, \n",
    "    pipe_rfc, \n",
    "    pipe_abc,\n",
    "#     grid_svc  # after testing this it was not worth it and took way to long.\n",
    "]\n",
    "pipe_idx = {0: 'Logistic Regression', \n",
    "            1: 'Random Forest', \n",
    "            2: 'Adaboost',\n",
    "#             3: 'Support Vector Machine'\n",
    "           }\n",
    "\n",
    "for idx, pipe in enumerate(pipes):\n",
    "    pipe.fit(X_train_res, y_train_res)\n",
    "    print('\\nScore Train/Test: %s' % pipe_idx[idx])\n",
    "    print(pipe.score(X_train, y_train))\n",
    "    print(pipe.score(X_test, y_test))\n",
    "#     print('Best params: %s' % pipe.best_params_)"
   ]
  },
  {
   "cell_type": "code",
   "execution_count": 41,
   "metadata": {},
   "outputs": [],
   "source": [
    "predictions = pipe_rfc.predict(test_data)"
   ]
  },
  {
   "cell_type": "code",
   "execution_count": 42,
   "metadata": {
    "scrolled": true
   },
   "outputs": [
    {
     "data": {
      "text/plain": [
       "116293"
      ]
     },
     "execution_count": 42,
     "metadata": {},
     "output_type": "execute_result"
    }
   ],
   "source": [
    "len(predictions)"
   ]
  },
  {
   "cell_type": "code",
   "execution_count": 43,
   "metadata": {},
   "outputs": [],
   "source": [
    "sample_submission = pd.read_csv('./assets/sampleSubmission.csv')\n",
    "sample_submission['WnvPresent'] = predictions\n",
    "sample_submission.to_csv('submission_randomforest.csv', index=False)"
   ]
  },
  {
   "cell_type": "code",
   "execution_count": 44,
   "metadata": {},
   "outputs": [
    {
     "name": "stdout",
     "output_type": "stream",
     "text": [
      "dict_values([109660, 6633])\n",
      "dict_keys([0, 1])\n"
     ]
    }
   ],
   "source": [
    "from collections import Counter\n",
    "\n",
    "print(Counter(predictions).values())\n",
    "print(Counter(predictions).keys())"
   ]
  },
  {
   "cell_type": "code",
   "execution_count": null,
   "metadata": {},
   "outputs": [],
   "source": []
  }
 ],
 "metadata": {
  "kernelspec": {
   "display_name": "Python [conda env:dsi]",
   "language": "python",
   "name": "conda-env-dsi-py"
  },
  "language_info": {
   "codemirror_mode": {
    "name": "ipython",
    "version": 3
   },
   "file_extension": ".py",
   "mimetype": "text/x-python",
   "name": "python",
   "nbconvert_exporter": "python",
   "pygments_lexer": "ipython3",
   "version": "3.6.5"
  }
 },
 "nbformat": 4,
 "nbformat_minor": 2
}
