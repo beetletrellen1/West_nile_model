{
 "cells": [
  {
   "cell_type": "code",
   "execution_count": 17,
   "metadata": {},
   "outputs": [],
   "source": [
    "import numpy as np\n",
    "import pandas as pd\n",
    "import re\n",
    "from sklearn import svm\n",
    "import matplotlib.pyplot as plt\n",
    "from sklearn.pipeline import Pipeline\n",
    "# from imblearn.over_sampling import SMOTE\n",
    "from sklearn.preprocessing import StandardScaler\n",
    "from sklearn.linear_model import LinearRegression\n",
    "# from sklearn.metrics import confusion_matrix as cm\n",
    "# from sklearn.ensemble import RandomForestClassifier, AdaBoostClassifier\n",
    "from sklearn.model_selection import train_test_split, GridSearchCV"
   ]
  },
  {
   "cell_type": "code",
   "execution_count": 3,
   "metadata": {},
   "outputs": [],
   "source": [
    "# data comes from Kaggle competition.  \n",
    "train_data   = pd.read_csv('./assets/train.csv')\n",
    "test_data    = pd.read_csv('./assets/test.csv', index_col='Id')\n",
    "weather_data = pd.read_csv('./assets/weather_station_avg.csv')"
   ]
  },
  {
   "cell_type": "code",
   "execution_count": 4,
   "metadata": {},
   "outputs": [
    {
     "data": {
      "text/plain": [
       "((10506, 39), (116293, 37))"
      ]
     },
     "execution_count": 4,
     "metadata": {},
     "output_type": "execute_result"
    }
   ],
   "source": [
    "# train_data = pd.merge(train_data, weather_data, how='inner', on='Date', sort=False, validate='m:1')\n",
    "train_data = train_data.merge(weather_data, on='Date')\n",
    "test_data  = test_data.merge(weather_data, on=\"Date\")\n",
    "\n",
    "train_data.shape, test_data.shape"
   ]
  },
  {
   "cell_type": "code",
   "execution_count": 5,
   "metadata": {},
   "outputs": [],
   "source": [
    "# to sort the values of the bugs that can have west nile from the ones that don't.\n",
    "def processing_species(df):\n",
    "    for bug in df:\n",
    "        if bug == 'CULEX PIPIENS/RESTUANS':\n",
    "            return 'wnv_bug'\n",
    "        elif bug == 'CULEX PIPIENS':\n",
    "            return 'wnv_bug'\n",
    "#         elif bug == 'CULEX RESTUANS':\n",
    "#             return 'wnv_bug'\n",
    "        elif bug == 'UNSPECIFIED CULEX':  # Assuming that the unspecified bug is a virus carrier.\n",
    "            return 'wnv_bug'\n",
    "        else:\n",
    "            return 'no_wnv_bug'\n",
    "\n",
    "train_data['Species'] = train_data[['Species']].apply(processing_species, axis=1)\n",
    "test_data['Species']  = test_data[['Species']].apply(processing_species, axis=1)"
   ]
  },
  {
   "cell_type": "code",
   "execution_count": 6,
   "metadata": {},
   "outputs": [],
   "source": [
    "# Break down to see if specific days are the most useful. My assumptions\n",
    "def date_separate(df):\n",
    "    df = df.copy()\n",
    "    df['Year'] = pd.DatetimeIndex(df['Date']).year\n",
    "    df['Month'] = pd.DatetimeIndex(df['Date']).month\n",
    "    df['Day'] = pd.DatetimeIndex(df['Date']).day\n",
    "    return df\n",
    "\n",
    "train_data = date_separate(train_data)\n",
    "test_data  = date_separate(test_data)"
   ]
  },
  {
   "cell_type": "code",
   "execution_count": 7,
   "metadata": {},
   "outputs": [],
   "source": [
    "# Removing date, because we \n",
    "def processing(df):\n",
    "    df.drop(['Date', \n",
    "             'Address', \n",
    "             'Street', \n",
    "             'AddressNumberAndStreet', \n",
    "             'Unnamed: 0',\n",
    "             ], axis=1, inplace=True)\n",
    "    df['Trap'] = [x.strip('TABCabc') for x in df['Trap']]\n",
    "    df['Trap'].astype(int)\n",
    "    df = pd.get_dummies(df, columns=['Species'])\n",
    "    return df\n",
    "\n",
    "train_data = processing(train_data)\n",
    "test_data  = processing(test_data)"
   ]
  },
  {
   "cell_type": "code",
   "execution_count": 8,
   "metadata": {},
   "outputs": [
    {
     "data": {
      "text/plain": [
       "((10506, 38), (116293, 36))"
      ]
     },
     "execution_count": 8,
     "metadata": {},
     "output_type": "execute_result"
    }
   ],
   "source": [
    "# the difference in shapes is fine because we have the Target still in the Training Data.\n",
    "train_data.shape, test_data.shape"
   ]
  },
  {
   "cell_type": "code",
   "execution_count": 9,
   "metadata": {},
   "outputs": [],
   "source": [
    "target   = train_data.NumMosquitos\n",
    "features = train_data.drop(['WnvPresent', 'NumMosquitos'], axis=1) "
   ]
  },
  {
   "cell_type": "code",
   "execution_count": 10,
   "metadata": {},
   "outputs": [],
   "source": [
    "X_train, X_test, y_train, y_test = train_test_split(features, target, random_state=42, stratify=target)"
   ]
  },
  {
   "cell_type": "code",
   "execution_count": 18,
   "metadata": {},
   "outputs": [],
   "source": [
    "# Using these three different models for classification.\n",
    "ss  = StandardScaler()\n",
    "\n",
    "lin = LinearRegression()"
   ]
  },
  {
   "cell_type": "code",
   "execution_count": 19,
   "metadata": {},
   "outputs": [],
   "source": [
    "# pipeline to streamline the process.\n",
    "pipe_lin = Pipeline([\n",
    "    ('ss', ss),\n",
    "    ('lin', lin)\n",
    "])"
   ]
  },
  {
   "cell_type": "code",
   "execution_count": 20,
   "metadata": {},
   "outputs": [
    {
     "name": "stdout",
     "output_type": "stream",
     "text": [
      "\n",
      "Score Train/Test: Linear Regression\n",
      "0.2136819210086861\n",
      "0.20365302708183106\n",
      "CPU times: user 576 ms, sys: 50.1 ms, total: 626 ms\n",
      "Wall time: 624 ms\n"
     ]
    }
   ],
   "source": [
    "%%time\n",
    "pipes    = [ \n",
    "    pipe_lin, \n",
    "]\n",
    "pipe_idx = {0: 'Linear Regression'}\n",
    "\n",
    "for idx, pipe in enumerate(pipes):\n",
    "    pipe.fit(X_train, y_train)\n",
    "    print('\\nScore Train/Test: %s' % pipe_idx[idx])\n",
    "    print(pipe.score(X_train, y_train))\n",
    "    print(pipe.score(X_test, y_test))\n",
    "#     print('Best params: %s' % pipe.best_params_)"
   ]
  },
  {
   "cell_type": "code",
   "execution_count": 22,
   "metadata": {},
   "outputs": [
    {
     "data": {
      "text/plain": [
       "[(119624119757557.97, 'Tavg'),\n",
       " (45219768428659.49, 'Heat'),\n",
       " (7600142470068.219, 'CodeSum_TS'),\n",
       " (1008906699894.123, 'CodeSum_RA DZ'),\n",
       " (8.92885553117782, 'Daylight'),\n",
       " (6.811251270407045, 'Month'),\n",
       " (3.815944668076004, 'Tmax'),\n",
       " (3.697151025205107, 'Tmin'),\n",
       " (3.571317900905999, 'StnPressure'),\n",
       " (2.351179097036793, 'DewPoint'),\n",
       " (1.958373614577606, 'Day'),\n",
       " (1.9055359103492804, 'CodeSum_TS BR'),\n",
       " (1.6590098561822562, 'AvgSpeed'),\n",
       " (1.5665264853705845, 'Depart'),\n",
       " (1.3280808397915165, 'CodeSum_TS RA'),\n",
       " (1.3217033111263747, 'Trap'),\n",
       " (0.7143693619673206, 'CodeSum_RA'),\n",
       " (0.6036502673652226, 'CodeSum_RA BR'),\n",
       " (0.5072846265500657, 'CodeSum_BR'),\n",
       " (0.2572358638131105, 'Year'),\n",
       " (0.17013511714762725, 'CodeSum_TS RA BR'),\n",
       " (0.05821936103722561, 'SeaLevel'),\n",
       " (-0.13897114691969406, 'CodeSum_RA DZ BR'),\n",
       " (-0.29006246122608037, 'CodeSum_DZ BR'),\n",
       " (-0.9133690925223336, 'ResultDir'),\n",
       " (-1.0982220296237133, 'ResultSpeed'),\n",
       " (-1.417154066678333, 'Block'),\n",
       " (-2.4116946240847783, 'PrecipTotal'),\n",
       " (-3.111472443997476, 'AddressAccuracy'),\n",
       " (-3.334415147451896, 'Longitude'),\n",
       " (-3.598024052909884, 'Latitude'),\n",
       " (-4.531605399686928, 'WetBulb'),\n",
       " (-2876586186151.658, 'CodeSum_DZ'),\n",
       " (-3514657982830.4375, 'Species_wnv_bug'),\n",
       " (-3514657982833.38, 'Species_no_wnv_bug'),\n",
       " (-90361540066252.55, 'Cool')]"
      ]
     },
     "execution_count": 22,
     "metadata": {},
     "output_type": "execute_result"
    }
   ],
   "source": [
    "feat = pipe_lin.named_steps['lin']\n",
    "\n",
    "importance = feat.coef_\n",
    "\n",
    "# Daylight and months correlate to being the most important features.  Clearly based on time of year\n",
    "# In addition with latitude and longitude to target the specific\n",
    "sorted(list(zip(importance, features.keys())), reverse=True)"
   ]
  },
  {
   "cell_type": "code",
   "execution_count": 23,
   "metadata": {},
   "outputs": [],
   "source": [
    "predictions = pipe_lin.predict(test_data)"
   ]
  },
  {
   "cell_type": "code",
   "execution_count": 24,
   "metadata": {},
   "outputs": [],
   "source": [
    "test_data['NumMosquitos'] = predictions\n",
    "test_data.to_csv('test_data_nummosquitos.csv', index=False)"
   ]
  },
  {
   "cell_type": "code",
   "execution_count": null,
   "metadata": {},
   "outputs": [],
   "source": []
  }
 ],
 "metadata": {
  "kernelspec": {
   "display_name": "Python [conda env:dsi]",
   "language": "python",
   "name": "conda-env-dsi-py"
  },
  "language_info": {
   "codemirror_mode": {
    "name": "ipython",
    "version": 3
   },
   "file_extension": ".py",
   "mimetype": "text/x-python",
   "name": "python",
   "nbconvert_exporter": "python",
   "pygments_lexer": "ipython3",
   "version": "3.6.5"
  }
 },
 "nbformat": 4,
 "nbformat_minor": 2
}
